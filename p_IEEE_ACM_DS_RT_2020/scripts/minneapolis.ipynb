{
 "cells": [
  {
   "cell_type": "code",
   "execution_count": 1,
   "metadata": {
    "pycharm": {
     "is_executing": false
    }
   },
   "outputs": [
    {
     "name": "stderr",
     "output_type": "stream",
     "text": [
      "/usr/local/lib/python3.7/site-packages/statsmodels/tools/_testing.py:19: FutureWarning: pandas.util.testing is deprecated. Use the functions in the public API at pandas.testing instead.\n",
      "  import pandas.util.testing as tm\n"
     ]
    }
   ],
   "source": [
    "import warnings\n",
    "import os\n",
    "import json\n",
    "import sys\n",
    "import datetime\n",
    "start_timestamp = datetime.datetime.now()\n",
    "\n",
    "import numpy as np\n",
    "import pandas as pd\n",
    "import matplotlib\n",
    "import matplotlib.pyplot as plt\n",
    "plt.style.use(\"ggplot\")\n",
    "import seaborn as sns\n",
    "import geopandas as gpd\n",
    "from shapely.geometry import Point, LineString, Polygon\n",
    "\n",
    "# from trips_count_predictor.city_loader.city_loader import CityLoader\n",
    "\n",
    "warnings.simplefilter(action='ignore')"
   ]
  },
  {
   "cell_type": "code",
   "execution_count": 6,
   "metadata": {
    "pycharm": {
     "is_executing": false
    }
   },
   "outputs": [
    {
     "data": {
      "text/plain": [
       "['.DS_Store',\n",
       " 'Motorized_Foot_Scooter_Trips_July_2019.csv',\n",
       " 'Motorized_Foot_Scooter_Trips_June_2019.csv',\n",
       " 'merge_minneapolis.py',\n",
       " 'Motorized_Foot_Scooter_Trips_November_2019.csv',\n",
       " 'Motorized_Foot_Scooter_Trips_October_2019.csv',\n",
       " 'Motorized_Foot_Scooter_Trips_August_2019.csv',\n",
       " 'Motorized_Foot_Scooter_Trips_September_2019.csv',\n",
       " 'Motorized_Foot_Scooter_Trips_May_2019.csv']"
      ]
     },
     "execution_count": 6,
     "metadata": {},
     "output_type": "execute_result"
    }
   ],
   "source": [
    "import os\n",
    "root = '/Users/mc/Desktop/ThesisPlots/p_IEEE_ACM_DS_RT_2020/'\n",
    "data_path = os.path.join(root, 'Data', 'Minneapolis')\n",
    "trips = pd.DataFrame()\n",
    "for file in os.listdir(data_path):\n",
    "    if 'csv' in file:\n",
    "        trips = trips.append(pd.read_csv(os.path.join(data_path, file)))\n",
    "trips.shape\n",
    "os.listdir(data_path)"
   ]
  },
  {
   "cell_type": "code",
   "execution_count": 7,
   "metadata": {
    "pycharm": {
     "is_executing": false
    }
   },
   "outputs": [],
   "source": [
    "# city_loader = CityLoader(\"Minneapolis\")\n",
    "# trips = city_loader.load_raw_trips_data(\"city_of_minneapolis\", 2019, 5)"
   ]
  },
  {
   "cell_type": "code",
   "execution_count": 8,
   "metadata": {
    "pycharm": {
     "is_executing": false
    }
   },
   "outputs": [
    {
     "data": {
      "text/plain": [
       "Index(['TripID', 'TripDuration', 'TripDistance', 'StartTime', 'EndTime',\n",
       "       'StartCenterlineID', 'StartCenterlineType', 'EndCenterlineID',\n",
       "       'EndCenterlineType', 'ObjectId', 'FID'],\n",
       "      dtype='object')"
      ]
     },
     "execution_count": 8,
     "metadata": {},
     "output_type": "execute_result"
    }
   ],
   "source": [
    "trips.columns"
   ]
  },
  {
   "cell_type": "code",
   "execution_count": 9,
   "metadata": {
    "pycharm": {
     "is_executing": false
    }
   },
   "outputs": [
    {
     "data": {
      "text/html": [
       "<div>\n",
       "<style scoped>\n",
       "    .dataframe tbody tr th:only-of-type {\n",
       "        vertical-align: middle;\n",
       "    }\n",
       "\n",
       "    .dataframe tbody tr th {\n",
       "        vertical-align: top;\n",
       "    }\n",
       "\n",
       "    .dataframe thead th {\n",
       "        text-align: right;\n",
       "    }\n",
       "</style>\n",
       "<table border=\"1\" class=\"dataframe\">\n",
       "  <thead>\n",
       "    <tr style=\"text-align: right;\">\n",
       "      <th></th>\n",
       "      <th>TripID</th>\n",
       "      <th>TripDuration</th>\n",
       "      <th>TripDistance</th>\n",
       "      <th>StartTime</th>\n",
       "      <th>EndTime</th>\n",
       "      <th>StartCenterlineID</th>\n",
       "      <th>StartCenterlineType</th>\n",
       "      <th>EndCenterlineID</th>\n",
       "      <th>EndCenterlineType</th>\n",
       "      <th>ObjectId</th>\n",
       "      <th>FID</th>\n",
       "    </tr>\n",
       "  </thead>\n",
       "  <tbody>\n",
       "    <tr>\n",
       "      <th>0</th>\n",
       "      <td>177251</td>\n",
       "      <td>249</td>\n",
       "      <td>810</td>\n",
       "      <td>2019-07-01T18:00:00.000Z</td>\n",
       "      <td>2019-07-01T18:00:00.000Z</td>\n",
       "      <td>16614.00</td>\n",
       "      <td>street</td>\n",
       "      <td>17053.00</td>\n",
       "      <td>street</td>\n",
       "      <td>1001.0</td>\n",
       "      <td>NaN</td>\n",
       "    </tr>\n",
       "    <tr>\n",
       "      <th>1</th>\n",
       "      <td>177262</td>\n",
       "      <td>440</td>\n",
       "      <td>1371</td>\n",
       "      <td>2019-07-01T18:00:00.000Z</td>\n",
       "      <td>2019-07-01T18:00:00.000Z</td>\n",
       "      <td>18749.00</td>\n",
       "      <td>street</td>\n",
       "      <td>17317.00</td>\n",
       "      <td>street</td>\n",
       "      <td>1002.0</td>\n",
       "      <td>NaN</td>\n",
       "    </tr>\n",
       "    <tr>\n",
       "      <th>2</th>\n",
       "      <td>177266</td>\n",
       "      <td>334</td>\n",
       "      <td>607</td>\n",
       "      <td>2019-07-01T18:00:00.000Z</td>\n",
       "      <td>2019-07-01T18:00:00.000Z</td>\n",
       "      <td>16615.00</td>\n",
       "      <td>street</td>\n",
       "      <td>19244.00</td>\n",
       "      <td>street</td>\n",
       "      <td>1003.0</td>\n",
       "      <td>NaN</td>\n",
       "    </tr>\n",
       "    <tr>\n",
       "      <th>3</th>\n",
       "      <td>177268</td>\n",
       "      <td>751</td>\n",
       "      <td>3292</td>\n",
       "      <td>2019-07-01T18:00:00.000Z</td>\n",
       "      <td>2019-07-01T18:30:00.000Z</td>\n",
       "      <td>11279.00</td>\n",
       "      <td>street</td>\n",
       "      <td>0A7745DD-4328-4460-A945-DC4E2FC05B14</td>\n",
       "      <td>trail</td>\n",
       "      <td>1004.0</td>\n",
       "      <td>NaN</td>\n",
       "    </tr>\n",
       "    <tr>\n",
       "      <th>4</th>\n",
       "      <td>177272</td>\n",
       "      <td>899</td>\n",
       "      <td>3908</td>\n",
       "      <td>2019-07-01T18:00:00.000Z</td>\n",
       "      <td>2019-07-01T18:30:00.000Z</td>\n",
       "      <td>12676ACC-202B-4EFF-A91F-C28307D4783C</td>\n",
       "      <td>trail</td>\n",
       "      <td>10323.00</td>\n",
       "      <td>street</td>\n",
       "      <td>1005.0</td>\n",
       "      <td>NaN</td>\n",
       "    </tr>\n",
       "  </tbody>\n",
       "</table>\n",
       "</div>"
      ],
      "text/plain": [
       "   TripID  TripDuration  TripDistance                 StartTime  \\\n",
       "0  177251           249           810  2019-07-01T18:00:00.000Z   \n",
       "1  177262           440          1371  2019-07-01T18:00:00.000Z   \n",
       "2  177266           334           607  2019-07-01T18:00:00.000Z   \n",
       "3  177268           751          3292  2019-07-01T18:00:00.000Z   \n",
       "4  177272           899          3908  2019-07-01T18:00:00.000Z   \n",
       "\n",
       "                    EndTime                     StartCenterlineID  \\\n",
       "0  2019-07-01T18:00:00.000Z                              16614.00   \n",
       "1  2019-07-01T18:00:00.000Z                              18749.00   \n",
       "2  2019-07-01T18:00:00.000Z                              16615.00   \n",
       "3  2019-07-01T18:30:00.000Z                              11279.00   \n",
       "4  2019-07-01T18:30:00.000Z  12676ACC-202B-4EFF-A91F-C28307D4783C   \n",
       "\n",
       "  StartCenterlineType                       EndCenterlineID EndCenterlineType  \\\n",
       "0              street                              17053.00            street   \n",
       "1              street                              17317.00            street   \n",
       "2              street                              19244.00            street   \n",
       "3              street  0A7745DD-4328-4460-A945-DC4E2FC05B14             trail   \n",
       "4               trail                              10323.00            street   \n",
       "\n",
       "   ObjectId  FID  \n",
       "0    1001.0  NaN  \n",
       "1    1002.0  NaN  \n",
       "2    1003.0  NaN  \n",
       "3    1004.0  NaN  \n",
       "4    1005.0  NaN  "
      ]
     },
     "execution_count": 9,
     "metadata": {},
     "output_type": "execute_result"
    }
   ],
   "source": [
    "trips.head()"
   ]
  },
  {
   "cell_type": "code",
   "execution_count": 14,
   "metadata": {
    "pycharm": {
     "is_executing": false
    }
   },
   "outputs": [
    {
     "data": {
      "text/plain": [
       "count     519357.0\n",
       "unique     14568.0\n",
       "top        18754.0\n",
       "freq        4000.0\n",
       "Name: StartCenterlineID, dtype: float64"
      ]
     },
     "execution_count": 14,
     "metadata": {},
     "output_type": "execute_result"
    }
   ],
   "source": [
    "trips.StartCenterlineID.describe()"
   ]
  },
  {
   "cell_type": "code",
   "execution_count": 10,
   "metadata": {
    "pycharm": {
     "is_executing": false
    }
   },
   "outputs": [],
   "source": [
    "shp_path = os.path.join(root, 'Data', 'MPLS_Centerline-shp', \n",
    "                        '9b43763e-b7c0-4eb2-89b4-219b4fcc2c912020328-1-dftyqs.90rzj.dbf')\n",
    "geo = gpd.read_file(shp_path)"
   ]
  },
  {
   "cell_type": "code",
   "execution_count": 11,
   "metadata": {
    "pycharm": {
     "is_executing": false
    }
   },
   "outputs": [
    {
     "data": {
      "text/plain": [
       "Index(['OBJECTID', 'L_F_ADD', 'R_F_ADD', 'L_T_ADD', 'R_T_ADD', 'STREETALL',\n",
       "       'F_CLASS', 'ALT_NAM1', 'ALT_NAM2', 'ZIP5_L', 'ZIP5_R', 'CITYLEFT',\n",
       "       'CITYRIGT', 'PREDIR', 'STREETNAME', 'TYPE', 'SUFDIR', 'SPEED_LIM',\n",
       "       'HIGHWAY_NU', 'ALT_ID', 'GBSID', 'COUNTYRIGT', 'COUNTYLEFT', 'ONEWAY',\n",
       "       'MSLINK', 'F_XSTREET_', 'F_XSTREE_1', 'F_XSTREE_2', 'T_XSTREET_',\n",
       "       'T_XSTREE_1', 'T_XSTREE_2', 'GlobalID', 'FromLanes', 'ToLanes',\n",
       "       'Shape__Len', 'geometry'],\n",
       "      dtype='object')"
      ]
     },
     "execution_count": 11,
     "metadata": {},
     "output_type": "execute_result"
    }
   ],
   "source": [
    "geo.columns"
   ]
  },
  {
   "cell_type": "code",
   "execution_count": 12,
   "metadata": {
    "pycharm": {
     "is_executing": false
    }
   },
   "outputs": [
    {
     "data": {
      "text/plain": [
       "0        LINESTRING (-93.30114 45.00486, -93.30165 45.0...\n",
       "1        LINESTRING (-93.31378 44.91240, -93.31251 44.9...\n",
       "2        LINESTRING (-93.29683 45.00596, -93.29683 45.0...\n",
       "3        LINESTRING (-93.27662 44.93593, -93.27533 44.9...\n",
       "4        LINESTRING (-93.24403 44.97554, -93.24374 44.9...\n",
       "                               ...                        \n",
       "13832    LINESTRING (-93.28954 44.97794, -93.29075 44.9...\n",
       "13833    LINESTRING (-93.26284 44.97028, -93.26303 44.9...\n",
       "13834    LINESTRING (-93.29538 44.97599, -93.29529 44.9...\n",
       "13835    LINESTRING (-93.29538 44.97599, -93.29548 44.9...\n",
       "13836    LINESTRING (-93.29544 44.97405, -93.29543 44.9...\n",
       "Name: geometry, Length: 13837, dtype: geometry"
      ]
     },
     "execution_count": 12,
     "metadata": {},
     "output_type": "execute_result"
    }
   ],
   "source": [
    "geo.geometry"
   ]
  },
  {
   "cell_type": "code",
   "execution_count": 13,
   "metadata": {
    "pycharm": {
     "is_executing": false
    }
   },
   "outputs": [
    {
     "data": {
      "text/plain": [
       "<matplotlib.axes._subplots.AxesSubplot at 0x12258bb90>"
      ]
     },
     "execution_count": 13,
     "metadata": {},
     "output_type": "execute_result"
    },
    {
     "data": {
      "image/png": "[encoded data removed]",
      "text/plain": [
       "<Figure size 432x288 with 1 Axes>"
      ]
     },
     "metadata": {
      "needs_background": "light"
     },
     "output_type": "display_data"
    }
   ],
   "source": [
    "geo.geometry.to_crs({\"init\":\"epsg:3857\"}).length.hist(bins=50)"
   ]
  },
  {
   "cell_type": "code",
   "execution_count": 14,
   "metadata": {
    "pycharm": {
     "is_executing": false
    }
   },
   "outputs": [
    {
     "data": {
      "text/plain": [
       "0         5\n",
       "1         2\n",
       "2         2\n",
       "3         2\n",
       "4         8\n",
       "         ..\n",
       "13832     2\n",
       "13833     2\n",
       "13834     8\n",
       "13835    17\n",
       "13836     6\n",
       "Name: geometry, Length: 13837, dtype: int64"
      ]
     },
     "execution_count": 14,
     "metadata": {},
     "output_type": "execute_result"
    }
   ],
   "source": [
    "geo.geometry.apply(lambda x: len(x.coords))"
   ]
  },
  {
   "cell_type": "code",
   "execution_count": 15,
   "metadata": {
    "pycharm": {
     "is_executing": false
    }
   },
   "outputs": [
    {
     "data": {
      "text/plain": [
       "(array([-93.296  , -93.29575, -93.2955 , -93.29525]),\n",
       " <a list of 4 Text xticklabel objects>)"
      ]
     },
     "execution_count": 15,
     "metadata": {},
     "output_type": "execute_result"
    },
    {
     "data": {
      "image/png": "[encoded data removed]",
      "text/plain": [
       "<Figure size 432x288 with 1 Axes>"
      ]
     },
     "metadata": {
      "needs_background": "light"
     },
     "output_type": "display_data"
    }
   ],
   "source": [
    "geo.iloc[13835:13836].plot()\n",
    "plt.xticks(rotation=\"vertical\")"
   ]
  },
  {
   "cell_type": "code",
   "execution_count": 21,
   "metadata": {
    "pycharm": {
     "is_executing": false
    }
   },
   "outputs": [],
   "source": [
    "def get_random_point_from_linestring (linestring):\n",
    "    linestring_coords = linestring.coords\n",
    "    segment_index = np.random.randint(0, len(linestring_coords)-1)\n",
    "    random_segment = LineString([\n",
    "        Point(linestring_coords[segment_index]), \n",
    "        Point(linestring_coords[(segment_index+1)])\n",
    "    ])\n",
    "    u = np.random.rand()\n",
    "    x1, x2 = random_segment.coords[0][0], random_segment.coords[1][0]\n",
    "    y1, y2 = random_segment.coords[0][1], random_segment.coords[1][1]\n",
    "    random_x = (1-u)*x1 + u*x2\n",
    "    random_y = (1-u)*y1 + u*y2\n",
    "    random_point = Point(random_x, random_y)\n",
    "    random_segment.__str__(), random_point.__str__(), random_segment.distance(random_point) < 1e-10\n",
    "    return random_point"
   ]
  },
  {
   "cell_type": "code",
   "execution_count": 22,
   "metadata": {
    "pycharm": {
     "is_executing": false
    }
   },
   "outputs": [
    {
     "data": {
      "text/plain": [
       "count    13837.000000\n",
       "mean     17177.483992\n",
       "std       4348.836010\n",
       "min      10001.000000\n",
       "25%      13482.000000\n",
       "50%      17011.000000\n",
       "75%      20554.000000\n",
       "max      26152.000000\n",
       "Name: GBSID, dtype: float64"
      ]
     },
     "execution_count": 22,
     "metadata": {},
     "output_type": "execute_result"
    }
   ],
   "source": [
    "geo.GBSID.describe()"
   ]
  },
  {
   "cell_type": "code",
   "execution_count": 34,
   "metadata": {
    "pycharm": {
     "is_executing": false
    }
   },
   "outputs": [],
   "source": [
    "trips[\"start_GBSID\"] = trips.StartCenterlineID\n",
    "trips= trips[(trips[\"StartCenterlineType\"] == \"street\") & (trips[\"EndCenterlineType\"] == \"street\")]\n",
    "trips.StartCenterlineID = trips.StartCenterlineID.astype(float)\n",
    "trips.EndCenterlineID = trips.EndCenterlineID.astype(float)\n"
   ]
  },
  {
   "cell_type": "code",
   "execution_count": 35,
   "metadata": {},
   "outputs": [
    {
     "data": {
      "text/html": [
       "<div>\n",
       "<style scoped>\n",
       "    .dataframe tbody tr th:only-of-type {\n",
       "        vertical-align: middle;\n",
       "    }\n",
       "\n",
       "    .dataframe tbody tr th {\n",
       "        vertical-align: top;\n",
       "    }\n",
       "\n",
       "    .dataframe thead th {\n",
       "        text-align: right;\n",
       "    }\n",
       "</style>\n",
       "<table border=\"1\" class=\"dataframe\">\n",
       "  <thead>\n",
       "    <tr style=\"text-align: right;\">\n",
       "      <th></th>\n",
       "      <th>TripID</th>\n",
       "      <th>TripDuration</th>\n",
       "      <th>TripDistance</th>\n",
       "      <th>StartTime</th>\n",
       "      <th>EndTime</th>\n",
       "      <th>StartCenterlineID</th>\n",
       "      <th>StartCenterlineType</th>\n",
       "      <th>EndCenterlineID</th>\n",
       "      <th>EndCenterlineType</th>\n",
       "      <th>ObjectId</th>\n",
       "      <th>FID</th>\n",
       "      <th>start_GBSID</th>\n",
       "    </tr>\n",
       "  </thead>\n",
       "  <tbody>\n",
       "    <tr>\n",
       "      <th>0</th>\n",
       "      <td>177251</td>\n",
       "      <td>249</td>\n",
       "      <td>810</td>\n",
       "      <td>2019-07-01T18:00:00.000Z</td>\n",
       "      <td>2019-07-01T18:00:00.000Z</td>\n",
       "      <td>16614.0</td>\n",
       "      <td>street</td>\n",
       "      <td>17053.0</td>\n",
       "      <td>street</td>\n",
       "      <td>1001.0</td>\n",
       "      <td>NaN</td>\n",
       "      <td>16614.00</td>\n",
       "    </tr>\n",
       "    <tr>\n",
       "      <th>1</th>\n",
       "      <td>177262</td>\n",
       "      <td>440</td>\n",
       "      <td>1371</td>\n",
       "      <td>2019-07-01T18:00:00.000Z</td>\n",
       "      <td>2019-07-01T18:00:00.000Z</td>\n",
       "      <td>18749.0</td>\n",
       "      <td>street</td>\n",
       "      <td>17317.0</td>\n",
       "      <td>street</td>\n",
       "      <td>1002.0</td>\n",
       "      <td>NaN</td>\n",
       "      <td>18749.00</td>\n",
       "    </tr>\n",
       "    <tr>\n",
       "      <th>2</th>\n",
       "      <td>177266</td>\n",
       "      <td>334</td>\n",
       "      <td>607</td>\n",
       "      <td>2019-07-01T18:00:00.000Z</td>\n",
       "      <td>2019-07-01T18:00:00.000Z</td>\n",
       "      <td>16615.0</td>\n",
       "      <td>street</td>\n",
       "      <td>19244.0</td>\n",
       "      <td>street</td>\n",
       "      <td>1003.0</td>\n",
       "      <td>NaN</td>\n",
       "      <td>16615.00</td>\n",
       "    </tr>\n",
       "    <tr>\n",
       "      <th>5</th>\n",
       "      <td>177273</td>\n",
       "      <td>389</td>\n",
       "      <td>1855</td>\n",
       "      <td>2019-07-01T18:00:00.000Z</td>\n",
       "      <td>2019-07-01T18:00:00.000Z</td>\n",
       "      <td>11509.0</td>\n",
       "      <td>street</td>\n",
       "      <td>16636.0</td>\n",
       "      <td>street</td>\n",
       "      <td>1006.0</td>\n",
       "      <td>NaN</td>\n",
       "      <td>11509.00</td>\n",
       "    </tr>\n",
       "    <tr>\n",
       "      <th>6</th>\n",
       "      <td>177053</td>\n",
       "      <td>1377</td>\n",
       "      <td>5434</td>\n",
       "      <td>2019-07-01T17:30:00.000Z</td>\n",
       "      <td>2019-07-01T17:30:00.000Z</td>\n",
       "      <td>17240.0</td>\n",
       "      <td>street</td>\n",
       "      <td>20467.0</td>\n",
       "      <td>street</td>\n",
       "      <td>1007.0</td>\n",
       "      <td>NaN</td>\n",
       "      <td>17240.00</td>\n",
       "    </tr>\n",
       "    <tr>\n",
       "      <th>...</th>\n",
       "      <td>...</td>\n",
       "      <td>...</td>\n",
       "      <td>...</td>\n",
       "      <td>...</td>\n",
       "      <td>...</td>\n",
       "      <td>...</td>\n",
       "      <td>...</td>\n",
       "      <td>...</td>\n",
       "      <td>...</td>\n",
       "      <td>...</td>\n",
       "      <td>...</td>\n",
       "      <td>...</td>\n",
       "    </tr>\n",
       "    <tr>\n",
       "      <th>39752</th>\n",
       "      <td>38617</td>\n",
       "      <td>219</td>\n",
       "      <td>656</td>\n",
       "      <td>2019-05-31T12:00:00.000Z</td>\n",
       "      <td>2019-05-31T12:00:00.000Z</td>\n",
       "      <td>16717.0</td>\n",
       "      <td>street</td>\n",
       "      <td>19544.0</td>\n",
       "      <td>street</td>\n",
       "      <td>36996.0</td>\n",
       "      <td>NaN</td>\n",
       "      <td>16717</td>\n",
       "    </tr>\n",
       "    <tr>\n",
       "      <th>39753</th>\n",
       "      <td>38464</td>\n",
       "      <td>698</td>\n",
       "      <td>2873</td>\n",
       "      <td>2019-05-31T05:30:00.000Z</td>\n",
       "      <td>2019-05-31T06:00:00.000Z</td>\n",
       "      <td>18343.0</td>\n",
       "      <td>street</td>\n",
       "      <td>16803.0</td>\n",
       "      <td>street</td>\n",
       "      <td>36997.0</td>\n",
       "      <td>NaN</td>\n",
       "      <td>18343</td>\n",
       "    </tr>\n",
       "    <tr>\n",
       "      <th>39754</th>\n",
       "      <td>38252</td>\n",
       "      <td>5966</td>\n",
       "      <td>4313</td>\n",
       "      <td>2019-05-31T03:30:00.000Z</td>\n",
       "      <td>2019-05-31T05:00:00.000Z</td>\n",
       "      <td>20799.0</td>\n",
       "      <td>street</td>\n",
       "      <td>17086.0</td>\n",
       "      <td>street</td>\n",
       "      <td>36998.0</td>\n",
       "      <td>NaN</td>\n",
       "      <td>20799</td>\n",
       "    </tr>\n",
       "    <tr>\n",
       "      <th>39755</th>\n",
       "      <td>38256</td>\n",
       "      <td>557</td>\n",
       "      <td>1363</td>\n",
       "      <td>2019-05-31T03:30:00.000Z</td>\n",
       "      <td>2019-05-31T03:30:00.000Z</td>\n",
       "      <td>16942.0</td>\n",
       "      <td>street</td>\n",
       "      <td>19782.0</td>\n",
       "      <td>street</td>\n",
       "      <td>36999.0</td>\n",
       "      <td>NaN</td>\n",
       "      <td>16942</td>\n",
       "    </tr>\n",
       "    <tr>\n",
       "      <th>39756</th>\n",
       "      <td>38258</td>\n",
       "      <td>1362</td>\n",
       "      <td>947</td>\n",
       "      <td>2019-05-31T03:30:00.000Z</td>\n",
       "      <td>2019-05-31T04:00:00.000Z</td>\n",
       "      <td>16901.0</td>\n",
       "      <td>street</td>\n",
       "      <td>17606.0</td>\n",
       "      <td>street</td>\n",
       "      <td>37000.0</td>\n",
       "      <td>NaN</td>\n",
       "      <td>16901</td>\n",
       "    </tr>\n",
       "  </tbody>\n",
       "</table>\n",
       "<p>817316 rows × 12 columns</p>\n",
       "</div>"
      ],
      "text/plain": [
       "       TripID  TripDuration  TripDistance                 StartTime  \\\n",
       "0      177251           249           810  2019-07-01T18:00:00.000Z   \n",
       "1      177262           440          1371  2019-07-01T18:00:00.000Z   \n",
       "2      177266           334           607  2019-07-01T18:00:00.000Z   \n",
       "5      177273           389          1855  2019-07-01T18:00:00.000Z   \n",
       "6      177053          1377          5434  2019-07-01T17:30:00.000Z   \n",
       "...       ...           ...           ...                       ...   \n",
       "39752   38617           219           656  2019-05-31T12:00:00.000Z   \n",
       "39753   38464           698          2873  2019-05-31T05:30:00.000Z   \n",
       "39754   38252          5966          4313  2019-05-31T03:30:00.000Z   \n",
       "39755   38256           557          1363  2019-05-31T03:30:00.000Z   \n",
       "39756   38258          1362           947  2019-05-31T03:30:00.000Z   \n",
       "\n",
       "                        EndTime  StartCenterlineID StartCenterlineType  \\\n",
       "0      2019-07-01T18:00:00.000Z            16614.0              street   \n",
       "1      2019-07-01T18:00:00.000Z            18749.0              street   \n",
       "2      2019-07-01T18:00:00.000Z            16615.0              street   \n",
       "5      2019-07-01T18:00:00.000Z            11509.0              street   \n",
       "6      2019-07-01T17:30:00.000Z            17240.0              street   \n",
       "...                         ...                ...                 ...   \n",
       "39752  2019-05-31T12:00:00.000Z            16717.0              street   \n",
       "39753  2019-05-31T06:00:00.000Z            18343.0              street   \n",
       "39754  2019-05-31T05:00:00.000Z            20799.0              street   \n",
       "39755  2019-05-31T03:30:00.000Z            16942.0              street   \n",
       "39756  2019-05-31T04:00:00.000Z            16901.0              street   \n",
       "\n",
       "       EndCenterlineID EndCenterlineType  ObjectId  FID start_GBSID  \n",
       "0              17053.0            street    1001.0  NaN    16614.00  \n",
       "1              17317.0            street    1002.0  NaN    18749.00  \n",
       "2              19244.0            street    1003.0  NaN    16615.00  \n",
       "5              16636.0            street    1006.0  NaN    11509.00  \n",
       "6              20467.0            street    1007.0  NaN    17240.00  \n",
       "...                ...               ...       ...  ...         ...  \n",
       "39752          19544.0            street   36996.0  NaN       16717  \n",
       "39753          16803.0            street   36997.0  NaN       18343  \n",
       "39754          17086.0            street   36998.0  NaN       20799  \n",
       "39755          19782.0            street   36999.0  NaN       16942  \n",
       "39756          17606.0            street   37000.0  NaN       16901  \n",
       "\n",
       "[817316 rows x 12 columns]"
      ]
     },
     "execution_count": 35,
     "metadata": {},
     "output_type": "execute_result"
    }
   ],
   "source": [
    "trips"
   ]
  },
  {
   "cell_type": "code",
   "execution_count": 36,
   "metadata": {
    "pycharm": {
     "is_executing": false
    }
   },
   "outputs": [],
   "source": [
    "trips_origins = gpd.GeoDataFrame(pd.merge(\n",
    "    trips, geo, left_on=\"StartCenterlineID\", right_on=\"GBSID\"\n",
    ")).sample(frac=1)\n",
    "\n",
    "trips_destinations = gpd.GeoDataFrame(pd.merge(\n",
    "    trips, geo, left_on=\"EndCenterlineID\", right_on=\"GBSID\"\n",
    ")).sample(frac=1)"
   ]
  },
  {
   "cell_type": "code",
   "execution_count": 37,
   "metadata": {
    "pycharm": {
     "is_executing": false
    }
   },
   "outputs": [
    {
     "name": "stdout",
     "output_type": "stream",
     "text": [
      "CPU times: user 5min 35s, sys: 1.8 s, total: 5min 37s\n",
      "Wall time: 5min 42s\n"
     ]
    }
   ],
   "source": [
    "%%time\n",
    "trips_origins.geometry = trips_origins.geometry.apply(get_random_point_from_linestring)\n",
    "trips_destinations.geometry = trips_destinations.geometry.apply(get_random_point_from_linestring)"
   ]
  },
  {
   "cell_type": "code",
   "execution_count": null,
   "metadata": {
    "pycharm": {
     "is_executing": false
    }
   },
   "outputs": [],
   "source": [
    "trips_origins.columns"
   ]
  },
  {
   "cell_type": "code",
   "execution_count": null,
   "metadata": {
    "pycharm": {
     "is_executing": false
    }
   },
   "outputs": [],
   "source": [
    "trips_origins.index"
   ]
  },
  {
   "cell_type": "code",
   "execution_count": null,
   "metadata": {
    "pycharm": {
     "is_executing": false
    }
   },
   "outputs": [],
   "source": [
    "trips_origins.geometry.head()"
   ]
  },
  {
   "cell_type": "code",
   "execution_count": null,
   "metadata": {
    "pycharm": {
     "is_executing": false
    }
   },
   "outputs": [],
   "source": [
    "trips_origins.plot()"
   ]
  },
  {
   "cell_type": "code",
   "execution_count": null,
   "metadata": {
    "pycharm": {
     "is_executing": false
    }
   },
   "outputs": [],
   "source": [
    "trips_destinations.plot()"
   ]
  },
  {
   "cell_type": "code",
   "execution_count": 38,
   "metadata": {
    "pycharm": {
     "is_executing": false
    }
   },
   "outputs": [],
   "source": [
    "output_path = os.path.join(root, 'Data', 'Minneapolis.csv')\n",
    "trips.to_csv(output_path, index=False)"
   ]
  },
  {
   "cell_type": "code",
   "execution_count": null,
   "metadata": {
    "pycharm": {
     "is_executing": false
    }
   },
   "outputs": [],
   "source": []
  },
  {
   "cell_type": "code",
   "execution_count": null,
   "metadata": {
    "pycharm": {
     "is_executing": false
    }
   },
   "outputs": [],
   "source": []
  }
 ],
 "metadata": {
  "kernelspec": {
   "display_name": "Python 3",
   "language": "python",
   "name": "python3"
  },
  "language_info": {
   "codemirror_mode": {
    "name": "ipython",
    "version": 3
   },
   "file_extension": ".py",
   "mimetype": "text/x-python",
   "name": "python",
   "nbconvert_exporter": "python",
   "pygments_lexer": "ipython3",
   "version": "3.7.4"
  },
  "pycharm": {
   "stem_cell": {
    "cell_type": "raw",
    "metadata": {
     "collapsed": false
    },
    "source": []
   }
  }
 },
 "nbformat": 4,
 "nbformat_minor": 2
}
