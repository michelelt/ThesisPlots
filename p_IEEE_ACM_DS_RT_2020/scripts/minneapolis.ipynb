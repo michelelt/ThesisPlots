{
 "cells": [
  {
   "cell_type": "code",
   "execution_count": 21,
   "metadata": {},
   "outputs": [],
   "source": [
    "import warnings\n",
    "import os\n",
    "import json\n",
    "import sys\n",
    "import datetime\n",
    "start_timestamp = datetime.datetime.now()\n",
    "\n",
    "import numpy as np\n",
    "import pandas as pd\n",
    "import matplotlib\n",
    "import matplotlib.pyplot as plt\n",
    "plt.style.use(\"ggplot\")\n",
    "import seaborn as sns\n",
    "import geopandas as gpd\n",
    "from shapely.geometry import Point, LineString, Polygon\n",
    "\n",
    "# from trips_count_predictor.city_loader.city_loader import CityLoader\n",
    "\n",
    "warnings.simplefilter(action='ignore')"
   ]
  },
  {
   "cell_type": "code",
   "execution_count": 22,
   "metadata": {},
   "outputs": [
    {
     "data": {
      "text/plain": [
       "(563458, 10)"
      ]
     },
     "execution_count": 22,
     "metadata": {},
     "output_type": "execute_result"
    }
   ],
   "source": [
    "import os\n",
    "root = '/Users/mc/Desktop/IEEE_ACM_DS_RT_2020/'\n",
    "data_path = os.path.join(root, 'Data', 'Minneapolis')\n",
    "trips = pd.DataFrame()\n",
    "for file in os.listdir(data_path):\n",
    "    if 'csv' in file:\n",
    "        trips = trips.append(pd.read_csv(os.path.join(data_path, file)))\n",
    "    else:\n",
    "       geo = gpd.read_file(\"MPLS_Centerline/MPLS_Centerline.dbf\") \n",
    "trips.shape"
   ]
  },
  {
   "cell_type": "code",
   "execution_count": 23,
   "metadata": {},
   "outputs": [],
   "source": [
    "# city_loader = CityLoader(\"Minneapolis\")\n",
    "# trips = city_loader.load_raw_trips_data(\"city_of_minneapolis\", 2019, 5)"
   ]
  },
  {
   "cell_type": "code",
   "execution_count": 24,
   "metadata": {},
   "outputs": [
    {
     "data": {
      "text/plain": [
       "Index(['TripID', 'TripDuration', 'TripDistance', 'StartTime', 'EndTime',\n",
       "       'StartCenterlineID', 'StartCenterlineType', 'EndCenterlineID',\n",
       "       'EndCenterlineType', 'ObjectId'],\n",
       "      dtype='object')"
      ]
     },
     "execution_count": 24,
     "metadata": {},
     "output_type": "execute_result"
    }
   ],
   "source": [
    "trips.columns"
   ]
  },
  {
   "cell_type": "code",
   "execution_count": 17,
   "metadata": {},
   "outputs": [
    {
     "data": {
      "text/html": [
       "<div>\n",
       "<style scoped>\n",
       "    .dataframe tbody tr th:only-of-type {\n",
       "        vertical-align: middle;\n",
       "    }\n",
       "\n",
       "    .dataframe tbody tr th {\n",
       "        vertical-align: top;\n",
       "    }\n",
       "\n",
       "    .dataframe thead th {\n",
       "        text-align: right;\n",
       "    }\n",
       "</style>\n",
       "<table border=\"1\" class=\"dataframe\">\n",
       "  <thead>\n",
       "    <tr style=\"text-align: right;\">\n",
       "      <th></th>\n",
       "      <th>TripID</th>\n",
       "      <th>TripDuration</th>\n",
       "      <th>TripDistance</th>\n",
       "      <th>StartTime</th>\n",
       "      <th>EndTime</th>\n",
       "      <th>StartCenterlineID</th>\n",
       "      <th>StartCenterlineType</th>\n",
       "      <th>EndCenterlineID</th>\n",
       "      <th>EndCenterlineType</th>\n",
       "      <th>ObjectId</th>\n",
       "    </tr>\n",
       "  </thead>\n",
       "  <tbody>\n",
       "    <tr>\n",
       "      <th>0</th>\n",
       "      <td>177251</td>\n",
       "      <td>249</td>\n",
       "      <td>810</td>\n",
       "      <td>2019-07-01T18:00:00.000Z</td>\n",
       "      <td>2019-07-01T18:00:00.000Z</td>\n",
       "      <td>16614.00</td>\n",
       "      <td>street</td>\n",
       "      <td>17053.00</td>\n",
       "      <td>street</td>\n",
       "      <td>1001</td>\n",
       "    </tr>\n",
       "    <tr>\n",
       "      <th>1</th>\n",
       "      <td>177262</td>\n",
       "      <td>440</td>\n",
       "      <td>1371</td>\n",
       "      <td>2019-07-01T18:00:00.000Z</td>\n",
       "      <td>2019-07-01T18:00:00.000Z</td>\n",
       "      <td>18749.00</td>\n",
       "      <td>street</td>\n",
       "      <td>17317.00</td>\n",
       "      <td>street</td>\n",
       "      <td>1002</td>\n",
       "    </tr>\n",
       "    <tr>\n",
       "      <th>2</th>\n",
       "      <td>177266</td>\n",
       "      <td>334</td>\n",
       "      <td>607</td>\n",
       "      <td>2019-07-01T18:00:00.000Z</td>\n",
       "      <td>2019-07-01T18:00:00.000Z</td>\n",
       "      <td>16615.00</td>\n",
       "      <td>street</td>\n",
       "      <td>19244.00</td>\n",
       "      <td>street</td>\n",
       "      <td>1003</td>\n",
       "    </tr>\n",
       "    <tr>\n",
       "      <th>3</th>\n",
       "      <td>177268</td>\n",
       "      <td>751</td>\n",
       "      <td>3292</td>\n",
       "      <td>2019-07-01T18:00:00.000Z</td>\n",
       "      <td>2019-07-01T18:30:00.000Z</td>\n",
       "      <td>11279.00</td>\n",
       "      <td>street</td>\n",
       "      <td>0A7745DD-4328-4460-A945-DC4E2FC05B14</td>\n",
       "      <td>trail</td>\n",
       "      <td>1004</td>\n",
       "    </tr>\n",
       "    <tr>\n",
       "      <th>4</th>\n",
       "      <td>177272</td>\n",
       "      <td>899</td>\n",
       "      <td>3908</td>\n",
       "      <td>2019-07-01T18:00:00.000Z</td>\n",
       "      <td>2019-07-01T18:30:00.000Z</td>\n",
       "      <td>12676ACC-202B-4EFF-A91F-C28307D4783C</td>\n",
       "      <td>trail</td>\n",
       "      <td>10323.00</td>\n",
       "      <td>street</td>\n",
       "      <td>1005</td>\n",
       "    </tr>\n",
       "  </tbody>\n",
       "</table>\n",
       "</div>"
      ],
      "text/plain": [
       "   TripID  TripDuration  TripDistance                 StartTime  \\\n",
       "0  177251           249           810  2019-07-01T18:00:00.000Z   \n",
       "1  177262           440          1371  2019-07-01T18:00:00.000Z   \n",
       "2  177266           334           607  2019-07-01T18:00:00.000Z   \n",
       "3  177268           751          3292  2019-07-01T18:00:00.000Z   \n",
       "4  177272           899          3908  2019-07-01T18:00:00.000Z   \n",
       "\n",
       "                    EndTime                     StartCenterlineID  \\\n",
       "0  2019-07-01T18:00:00.000Z                              16614.00   \n",
       "1  2019-07-01T18:00:00.000Z                              18749.00   \n",
       "2  2019-07-01T18:00:00.000Z                              16615.00   \n",
       "3  2019-07-01T18:30:00.000Z                              11279.00   \n",
       "4  2019-07-01T18:30:00.000Z  12676ACC-202B-4EFF-A91F-C28307D4783C   \n",
       "\n",
       "  StartCenterlineType                       EndCenterlineID EndCenterlineType  \\\n",
       "0              street                              17053.00            street   \n",
       "1              street                              17317.00            street   \n",
       "2              street                              19244.00            street   \n",
       "3              street  0A7745DD-4328-4460-A945-DC4E2FC05B14             trail   \n",
       "4               trail                              10323.00            street   \n",
       "\n",
       "   ObjectId  \n",
       "0      1001  \n",
       "1      1002  \n",
       "2      1003  \n",
       "3      1004  \n",
       "4      1005  "
      ]
     },
     "execution_count": 17,
     "metadata": {},
     "output_type": "execute_result"
    }
   ],
   "source": [
    "trips.head()"
   ]
  },
  {
   "cell_type": "code",
   "execution_count": 18,
   "metadata": {},
   "outputs": [
    {
     "data": {
      "text/plain": [
       "count     519357.0\n",
       "unique     14568.0\n",
       "top        18754.0\n",
       "freq        4000.0\n",
       "Name: StartCenterlineID, dtype: float64"
      ]
     },
     "execution_count": 18,
     "metadata": {},
     "output_type": "execute_result"
    }
   ],
   "source": [
    "trips.StartCenterlineID.describe()"
   ]
  },
  {
   "cell_type": "code",
   "execution_count": 19,
   "metadata": {},
   "outputs": [
    {
     "ename": "OSError",
     "evalue": "no such file or directory: 'MPLS_Centerline/MPLS_Centerline.dbf'",
     "output_type": "error",
     "traceback": [
      "\u001b[0;31m---------------------------------------------------------------------------\u001b[0m",
      "\u001b[0;31mOSError\u001b[0m                                   Traceback (most recent call last)",
      "\u001b[0;32m<ipython-input-19-4c12c9d9d83b>\u001b[0m in \u001b[0;36m<module>\u001b[0;34m()\u001b[0m\n\u001b[0;32m----> 1\u001b[0;31m \u001b[0mgeo\u001b[0m \u001b[0;34m=\u001b[0m \u001b[0mgpd\u001b[0m\u001b[0;34m.\u001b[0m\u001b[0mread_file\u001b[0m\u001b[0;34m(\u001b[0m\u001b[0;34m\"MPLS_Centerline/MPLS_Centerline.dbf\"\u001b[0m\u001b[0;34m)\u001b[0m\u001b[0;34m\u001b[0m\u001b[0;34m\u001b[0m\u001b[0m\n\u001b[0m",
      "\u001b[0;32m/usr/local/lib/python3.7/site-packages/geopandas/io/file.py\u001b[0m in \u001b[0;36mread_file\u001b[0;34m(filename, bbox, mask, rows, **kwargs)\u001b[0m\n\u001b[1;32m     87\u001b[0m \u001b[0;34m\u001b[0m\u001b[0m\n\u001b[1;32m     88\u001b[0m     \u001b[0;32mwith\u001b[0m \u001b[0mfiona_env\u001b[0m\u001b[0;34m(\u001b[0m\u001b[0;34m)\u001b[0m\u001b[0;34m:\u001b[0m\u001b[0;34m\u001b[0m\u001b[0;34m\u001b[0m\u001b[0m\n\u001b[0;32m---> 89\u001b[0;31m         \u001b[0;32mwith\u001b[0m \u001b[0mreader\u001b[0m\u001b[0;34m(\u001b[0m\u001b[0mpath_or_bytes\u001b[0m\u001b[0;34m,\u001b[0m \u001b[0;34m**\u001b[0m\u001b[0mkwargs\u001b[0m\u001b[0;34m)\u001b[0m \u001b[0;32mas\u001b[0m \u001b[0mfeatures\u001b[0m\u001b[0;34m:\u001b[0m\u001b[0;34m\u001b[0m\u001b[0;34m\u001b[0m\u001b[0m\n\u001b[0m\u001b[1;32m     90\u001b[0m \u001b[0;34m\u001b[0m\u001b[0m\n\u001b[1;32m     91\u001b[0m             \u001b[0;31m# In a future Fiona release the crs attribute of features will\u001b[0m\u001b[0;34m\u001b[0m\u001b[0;34m\u001b[0m\u001b[0;34m\u001b[0m\u001b[0m\n",
      "\u001b[0;32m/usr/local/lib/python3.7/site-packages/fiona/__init__.py\u001b[0m in \u001b[0;36mopen\u001b[0;34m(path, mode, driver, schema, crs, encoding, layer, vfs, enabled_drivers, crs_wkt)\u001b[0m\n\u001b[1;32m    160\u001b[0m                 \u001b[0;32mraise\u001b[0m \u001b[0mIOError\u001b[0m\u001b[0;34m(\u001b[0m\u001b[0;34m\"no such archive file: %r\"\u001b[0m \u001b[0;34m%\u001b[0m \u001b[0marchive\u001b[0m\u001b[0;34m)\u001b[0m\u001b[0;34m\u001b[0m\u001b[0;34m\u001b[0m\u001b[0m\n\u001b[1;32m    161\u001b[0m         \u001b[0;32melif\u001b[0m \u001b[0mpath\u001b[0m \u001b[0;34m!=\u001b[0m \u001b[0;34m'-'\u001b[0m \u001b[0;32mand\u001b[0m \u001b[0;32mnot\u001b[0m \u001b[0mos\u001b[0m\u001b[0;34m.\u001b[0m\u001b[0mpath\u001b[0m\u001b[0;34m.\u001b[0m\u001b[0mexists\u001b[0m\u001b[0;34m(\u001b[0m\u001b[0mpath\u001b[0m\u001b[0;34m)\u001b[0m\u001b[0;34m:\u001b[0m\u001b[0;34m\u001b[0m\u001b[0;34m\u001b[0m\u001b[0m\n\u001b[0;32m--> 162\u001b[0;31m             \u001b[0;32mraise\u001b[0m \u001b[0mIOError\u001b[0m\u001b[0;34m(\u001b[0m\u001b[0;34m\"no such file or directory: %r\"\u001b[0m \u001b[0;34m%\u001b[0m \u001b[0mpath\u001b[0m\u001b[0;34m)\u001b[0m\u001b[0;34m\u001b[0m\u001b[0;34m\u001b[0m\u001b[0m\n\u001b[0m\u001b[1;32m    163\u001b[0m         c = Collection(path, mode, driver=driver, encoding=encoding,\n\u001b[1;32m    164\u001b[0m                        \u001b[0mlayer\u001b[0m\u001b[0;34m=\u001b[0m\u001b[0mlayer\u001b[0m\u001b[0;34m,\u001b[0m \u001b[0mvsi\u001b[0m\u001b[0;34m=\u001b[0m\u001b[0mvsi\u001b[0m\u001b[0;34m,\u001b[0m \u001b[0marchive\u001b[0m\u001b[0;34m=\u001b[0m\u001b[0marchive\u001b[0m\u001b[0;34m,\u001b[0m\u001b[0;34m\u001b[0m\u001b[0;34m\u001b[0m\u001b[0m\n",
      "\u001b[0;31mOSError\u001b[0m: no such file or directory: 'MPLS_Centerline/MPLS_Centerline.dbf'"
     ]
    }
   ],
   "source": [
    "geo = gpd.read_file(\"MPLS_Centerline/MPLS_Centerline.dbf\")"
   ]
  },
  {
   "cell_type": "code",
   "execution_count": 7,
   "metadata": {},
   "outputs": [
    {
     "data": {
      "text/plain": [
       "Index(['OBJECTID', 'L_F_ADD', 'R_F_ADD', 'L_T_ADD', 'R_T_ADD', 'STREETALL',\n",
       "       'F_CLASS', 'ALT_NAM1', 'ALT_NAM2', 'ZIP5_L', 'ZIP5_R', 'CITYLEFT',\n",
       "       'CITYRIGT', 'PREDIR', 'STREETNAME', 'TYPE', 'SUFDIR', 'SPEED_LIM',\n",
       "       'HIGHWAY_NU', 'ALT_ID', 'GBSID', 'COUNTYRIGT', 'COUNTYLEFT', 'ONEWAY',\n",
       "       'MSLINK', 'F_XSTREET_', 'F_XSTREE_1', 'F_XSTREE_2', 'T_XSTREET_',\n",
       "       'T_XSTREE_1', 'T_XSTREE_2', 'GlobalID', 'FromLanes', 'ToLanes',\n",
       "       'Shape__Len', 'geometry'],\n",
       "      dtype='object')"
      ]
     },
     "execution_count": 7,
     "metadata": {},
     "output_type": "execute_result"
    }
   ],
   "source": [
    "geo.columns"
   ]
  },
  {
   "cell_type": "code",
   "execution_count": 8,
   "metadata": {},
   "outputs": [
    {
     "data": {
      "text/plain": [
       "0        LINESTRING (-93.22942744349589 45.022275207595...\n",
       "1        LINESTRING (-93.2088210065463 44.9483483888007...\n",
       "2        LINESTRING (-93.2906603829404 44.9466004345999...\n",
       "3        LINESTRING (-93.28190704121729 45.016681894096...\n",
       "4        LINESTRING (-93.21779006740771 44.904471030025...\n",
       "                               ...                        \n",
       "13832    LINESTRING (-93.2895372640139 44.9779427242907...\n",
       "13833    LINESTRING (-93.26284350342991 44.970281621377...\n",
       "13834    LINESTRING (-93.2953764258273 44.9759943674039...\n",
       "13835    LINESTRING (-93.2953764258273 44.9759943674039...\n",
       "13836    LINESTRING (-93.2954369430602 44.974047984322,...\n",
       "Name: geometry, Length: 13837, dtype: object"
      ]
     },
     "execution_count": 8,
     "metadata": {},
     "output_type": "execute_result"
    }
   ],
   "source": [
    "geo.geometry"
   ]
  },
  {
   "cell_type": "code",
   "execution_count": 10,
   "metadata": {},
   "outputs": [
    {
     "data": {
      "text/plain": [
       "<matplotlib.axes._subplots.AxesSubplot at 0x7f18ccf15cc0>"
      ]
     },
     "execution_count": 10,
     "metadata": {},
     "output_type": "execute_result"
    },
    {
     "data": {
      "image/png": "[encoded data removed]",
      "text/plain": [
       "<Figure size 432x288 with 1 Axes>"
      ]
     },
     "metadata": {
      "needs_background": "light"
     },
     "output_type": "display_data"
    }
   ],
   "source": [
    "geo.geometry.to_crs({\"init\":\"epsg:3857\"}).length.hist(bins=50)"
   ]
  },
  {
   "cell_type": "code",
   "execution_count": 11,
   "metadata": {},
   "outputs": [
    {
     "data": {
      "text/plain": [
       "0         2\n",
       "1         7\n",
       "2         2\n",
       "3         4\n",
       "4         2\n",
       "         ..\n",
       "13832     2\n",
       "13833     2\n",
       "13834     8\n",
       "13835    17\n",
       "13836     6\n",
       "Name: geometry, Length: 13837, dtype: int64"
      ]
     },
     "execution_count": 11,
     "metadata": {},
     "output_type": "execute_result"
    }
   ],
   "source": [
    "geo.geometry.apply(lambda x: len(x.coords))"
   ]
  },
  {
   "cell_type": "code",
   "execution_count": 12,
   "metadata": {},
   "outputs": [
    {
     "data": {
      "text/plain": [
       "(array([-93.296  , -93.29575, -93.2955 , -93.29525]),\n",
       " <a list of 4 Text xticklabel objects>)"
      ]
     },
     "execution_count": 12,
     "metadata": {},
     "output_type": "execute_result"
    },
    {
     "data": {
      "image/png": "[encoded data removed]",
      "text/plain": [
       "<Figure size 432x288 with 1 Axes>"
      ]
     },
     "metadata": {
      "needs_background": "light"
     },
     "output_type": "display_data"
    }
   ],
   "source": [
    "geo.iloc[13835:13836].plot()\n",
    "plt.xticks(rotation=\"vertical\")"
   ]
  },
  {
   "cell_type": "code",
   "execution_count": 13,
   "metadata": {},
   "outputs": [],
   "source": [
    "def get_random_point_from_linestring (linestring):\n",
    "    linestring_coords = linestring.coords\n",
    "    segment_index = np.random.randint(0, len(linestring_coords)-1)\n",
    "    random_segment = LineString([\n",
    "        Point(linestring_coords[segment_index]), \n",
    "        Point(linestring_coords[(segment_index+1)])\n",
    "    ])\n",
    "    u = np.random.rand()\n",
    "    x1, x2 = random_segment.coords[0][0], random_segment.coords[1][0]\n",
    "    y1, y2 = random_segment.coords[0][1], random_segment.coords[1][1]\n",
    "    random_x = (1-u)*x1 + u*x2\n",
    "    random_y = (1-u)*y1 + u*y2\n",
    "    random_point = Point(random_x, random_y)\n",
    "    random_segment.__str__(), random_point.__str__(), random_segment.distance(random_point) < 1e-10\n",
    "    return random_point"
   ]
  },
  {
   "cell_type": "code",
   "execution_count": 14,
   "metadata": {},
   "outputs": [
    {
     "data": {
      "text/plain": [
       "count    13837.000000\n",
       "mean     17177.483992\n",
       "std       4348.836010\n",
       "min      10001.000000\n",
       "25%      13482.000000\n",
       "50%      17011.000000\n",
       "75%      20554.000000\n",
       "max      26152.000000\n",
       "Name: GBSID, dtype: float64"
      ]
     },
     "execution_count": 14,
     "metadata": {},
     "output_type": "execute_result"
    }
   ],
   "source": [
    "geo.GBSID.describe()"
   ]
  },
  {
   "cell_type": "code",
   "execution_count": 15,
   "metadata": {},
   "outputs": [],
   "source": [
    "trips[\"start_GBSID\"] = trips.StartCenterlineID"
   ]
  },
  {
   "cell_type": "code",
   "execution_count": 16,
   "metadata": {},
   "outputs": [],
   "source": [
    "trips_origins = gpd.GeoDataFrame(pd.merge(\n",
    "    trips, geo, left_on=\"StartCenterlineID\", right_on=\"GBSID\"\n",
    ")).sample(frac=1)\n",
    "trips_destinations = gpd.GeoDataFrame(pd.merge(\n",
    "    trips, geo, left_on=\"EndCenterlineID\", right_on=\"GBSID\"\n",
    ")).sample(frac=1)"
   ]
  },
  {
   "cell_type": "code",
   "execution_count": 17,
   "metadata": {},
   "outputs": [
    {
     "name": "stdout",
     "output_type": "stream",
     "text": [
      "CPU times: user 17.2 s, sys: 8 ms, total: 17.2 s\n",
      "Wall time: 17.2 s\n"
     ]
    }
   ],
   "source": [
    "%%time\n",
    "trips_origins.geometry = trips_origins.geometry.apply(get_random_point_from_linestring)\n",
    "trips_destinations.geometry = trips_destinations.geometry.apply(get_random_point_from_linestring)"
   ]
  },
  {
   "cell_type": "code",
   "execution_count": 18,
   "metadata": {},
   "outputs": [
    {
     "data": {
      "text/plain": [
       "Index(['TripID', 'TripDuration', 'TripDistance', 'StartTime', 'EndTime',\n",
       "       'StartCenterlineID', 'StartCenterlineType', 'EndCenterlineID',\n",
       "       'EndCenterlineType', 'ObjectId', 'start_GBSID', 'OBJECTID', 'L_F_ADD',\n",
       "       'R_F_ADD', 'L_T_ADD', 'R_T_ADD', 'STREETALL', 'F_CLASS', 'ALT_NAM1',\n",
       "       'ALT_NAM2', 'ZIP5_L', 'ZIP5_R', 'CITYLEFT', 'CITYRIGT', 'PREDIR',\n",
       "       'STREETNAME', 'TYPE', 'SUFDIR', 'SPEED_LIM', 'HIGHWAY_NU', 'ALT_ID',\n",
       "       'GBSID', 'COUNTYRIGT', 'COUNTYLEFT', 'ONEWAY', 'MSLINK', 'F_XSTREET_',\n",
       "       'F_XSTREE_1', 'F_XSTREE_2', 'T_XSTREET_', 'T_XSTREE_1', 'T_XSTREE_2',\n",
       "       'GlobalID', 'FromLanes', 'ToLanes', 'Shape__Len', 'geometry'],\n",
       "      dtype='object')"
      ]
     },
     "execution_count": 18,
     "metadata": {},
     "output_type": "execute_result"
    }
   ],
   "source": [
    "trips_origins.columns"
   ]
  },
  {
   "cell_type": "code",
   "execution_count": 19,
   "metadata": {},
   "outputs": [
    {
     "data": {
      "text/plain": [
       "Int64Index([21344,  5675, 11798, 17765,   210, 16519, 32308, 24615, 24094,\n",
       "            30188,\n",
       "            ...\n",
       "            13094, 11699,  6992,  8655, 29699, 28023, 31641, 20546, 19553,\n",
       "            33390],\n",
       "           dtype='int64', length=35199)"
      ]
     },
     "execution_count": 19,
     "metadata": {},
     "output_type": "execute_result"
    }
   ],
   "source": [
    "trips_origins.index"
   ]
  },
  {
   "cell_type": "code",
   "execution_count": 20,
   "metadata": {},
   "outputs": [
    {
     "data": {
      "text/plain": [
       "21344    POINT (-93.23682110696068 44.96096242276697)\n",
       "5675     POINT (-93.28416659682428 44.97398843250631)\n",
       "11798     POINT (-93.2556787535482 44.97680746745269)\n",
       "17765    POINT (-93.27791451342199 44.93970688098515)\n",
       "210      POINT (-93.27591078885284 44.98034688016465)\n",
       "Name: geometry, dtype: object"
      ]
     },
     "execution_count": 20,
     "metadata": {},
     "output_type": "execute_result"
    }
   ],
   "source": [
    "trips_origins.geometry.head()"
   ]
  },
  {
   "cell_type": "code",
   "execution_count": 21,
   "metadata": {},
   "outputs": [
    {
     "data": {
      "text/plain": [
       "<matplotlib.axes._subplots.AxesSubplot at 0x7f18cc1d3b38>"
      ]
     },
     "execution_count": 21,
     "metadata": {},
     "output_type": "execute_result"
    },
    {
     "data": {
      "image/png": "[encoded data removed]",
      "text/plain": [
       "<Figure size 432x288 with 1 Axes>"
      ]
     },
     "metadata": {
      "needs_background": "light"
     },
     "output_type": "display_data"
    }
   ],
   "source": [
    "trips_origins.plot()"
   ]
  },
  {
   "cell_type": "code",
   "execution_count": 22,
   "metadata": {},
   "outputs": [
    {
     "data": {
      "text/plain": [
       "<matplotlib.axes._subplots.AxesSubplot at 0x7f18cc182eb8>"
      ]
     },
     "execution_count": 22,
     "metadata": {},
     "output_type": "execute_result"
    },
    {
     "data": {
      "image/png": "[encoded data removed]",
      "text/plain": [
       "<Figure size 432x288 with 1 Axes>"
      ]
     },
     "metadata": {
      "needs_background": "light"
     },
     "output_type": "display_data"
    }
   ],
   "source": [
    "trips_destinations.plot()"
   ]
  },
  {
   "cell_type": "code",
   "execution_count": null,
   "metadata": {},
   "outputs": [],
   "source": []
  },
  {
   "cell_type": "code",
   "execution_count": null,
   "metadata": {},
   "outputs": [],
   "source": []
  },
  {
   "cell_type": "code",
   "execution_count": null,
   "metadata": {},
   "outputs": [],
   "source": []
  }
 ],
 "metadata": {
  "kernelspec": {
   "display_name": "Python 3",
   "language": "python",
   "name": "python3"
  },
  "language_info": {
   "codemirror_mode": {
    "name": "ipython",
    "version": 3
   },
   "file_extension": ".py",
   "mimetype": "text/x-python",
   "name": "python",
   "nbconvert_exporter": "python",
   "pygments_lexer": "ipython3",
   "version": "3.7.4"
  }
 },
 "nbformat": 4,
 "nbformat_minor": 2
}
